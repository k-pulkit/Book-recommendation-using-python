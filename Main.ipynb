{
 "cells": [
  {
   "cell_type": "markdown",
   "id": "79fd34f1",
   "metadata": {},
   "source": [
    "# About\n",
    "\n",
    "This notebook outlines the analysis done for project \"Book recommendation system\". <br>\n",
    "For this project, we have taken the goodreads book rating data. Given the rating data the objective is to use it in a way to give product recommendations."
   ]
  },
  {
   "cell_type": "markdown",
   "id": "32198b74",
   "metadata": {},
   "source": [
    "# 1. Importing the data"
   ]
  },
  {
   "cell_type": "code",
   "execution_count": 1,
   "id": "49674060",
   "metadata": {},
   "outputs": [],
   "source": [
    "import pandas as pd\n",
    "import numpy as np\n",
    "\n",
    "import matplotlib.pyplot as plt\n",
    "import seaborn as sns\n",
    "\n",
    "sns.set_style(\"whitegrid\")\n",
    "\n",
    "%matplotlib inline"
   ]
  },
  {
   "cell_type": "markdown",
   "id": "1d20f5de",
   "metadata": {},
   "source": [
    "## Ratings dataset\n",
    "\n",
    "The first dataframe that we are going to import is the Ratings dataset. THis contains information about the user ratings of different books that the users have read in the past"
   ]
  },
  {
   "cell_type": "code",
   "execution_count": 2,
   "id": "f08db8af",
   "metadata": {},
   "outputs": [
    {
     "name": "stdout",
     "output_type": "stream",
     "text": [
      "Row and columns : (5976479, 3)\n"
     ]
    },
    {
     "data": {
      "text/html": [
       "<div>\n",
       "<style scoped>\n",
       "    .dataframe tbody tr th:only-of-type {\n",
       "        vertical-align: middle;\n",
       "    }\n",
       "\n",
       "    .dataframe tbody tr th {\n",
       "        vertical-align: top;\n",
       "    }\n",
       "\n",
       "    .dataframe thead th {\n",
       "        text-align: right;\n",
       "    }\n",
       "</style>\n",
       "<table border=\"1\" class=\"dataframe\">\n",
       "  <thead>\n",
       "    <tr style=\"text-align: right;\">\n",
       "      <th></th>\n",
       "      <th>user_id</th>\n",
       "      <th>book_id</th>\n",
       "      <th>rating</th>\n",
       "    </tr>\n",
       "  </thead>\n",
       "  <tbody>\n",
       "    <tr>\n",
       "      <th>0</th>\n",
       "      <td>1</td>\n",
       "      <td>258</td>\n",
       "      <td>5</td>\n",
       "    </tr>\n",
       "    <tr>\n",
       "      <th>1</th>\n",
       "      <td>2</td>\n",
       "      <td>4081</td>\n",
       "      <td>4</td>\n",
       "    </tr>\n",
       "  </tbody>\n",
       "</table>\n",
       "</div>"
      ],
      "text/plain": [
       "   user_id  book_id  rating\n",
       "0        1      258       5\n",
       "1        2     4081       4"
      ]
     },
     "execution_count": 2,
     "metadata": {},
     "output_type": "execute_result"
    }
   ],
   "source": [
    "ratings = pd.read_csv(\"./data/ratings.csv\")\n",
    "print(f'Row and columns : {ratings.shape}')\n",
    "ratings.head(2)"
   ]
  },
  {
   "cell_type": "markdown",
   "id": "b4f895af",
   "metadata": {},
   "source": [
    "In this dataframe, we have around 5 million book ratings"
   ]
  },
  {
   "cell_type": "code",
   "execution_count": 3,
   "id": "ac9d3d62",
   "metadata": {},
   "outputs": [
    {
     "data": {
      "text/plain": [
       "Index       0.000122\n",
       "user_id    45.596916\n",
       "book_id    45.596916\n",
       "rating     45.596916\n",
       "dtype: float64"
      ]
     },
     "execution_count": 3,
     "metadata": {},
     "output_type": "execute_result"
    }
   ],
   "source": [
    "# memory usage in MB\n",
    "ratings.memory_usage() / 1024 / 1024"
   ]
  },
  {
   "cell_type": "markdown",
   "id": "99a17cfa",
   "metadata": {},
   "source": [
    "## Books dataset\n",
    "\n",
    "This dataset contain the metadata about the books present in the database"
   ]
  },
  {
   "cell_type": "code",
   "execution_count": 4,
   "id": "cc9fe93a",
   "metadata": {},
   "outputs": [
    {
     "name": "stdout",
     "output_type": "stream",
     "text": [
      "Row and columns : (10000, 23)\n"
     ]
    },
    {
     "data": {
      "text/html": [
       "<div>\n",
       "<style scoped>\n",
       "    .dataframe tbody tr th:only-of-type {\n",
       "        vertical-align: middle;\n",
       "    }\n",
       "\n",
       "    .dataframe tbody tr th {\n",
       "        vertical-align: top;\n",
       "    }\n",
       "\n",
       "    .dataframe thead th {\n",
       "        text-align: right;\n",
       "    }\n",
       "</style>\n",
       "<table border=\"1\" class=\"dataframe\">\n",
       "  <thead>\n",
       "    <tr style=\"text-align: right;\">\n",
       "      <th></th>\n",
       "      <th>book_id</th>\n",
       "      <th>goodreads_book_id</th>\n",
       "      <th>best_book_id</th>\n",
       "      <th>work_id</th>\n",
       "      <th>books_count</th>\n",
       "      <th>isbn</th>\n",
       "      <th>isbn13</th>\n",
       "      <th>authors</th>\n",
       "      <th>original_publication_year</th>\n",
       "      <th>original_title</th>\n",
       "      <th>...</th>\n",
       "      <th>ratings_count</th>\n",
       "      <th>work_ratings_count</th>\n",
       "      <th>work_text_reviews_count</th>\n",
       "      <th>ratings_1</th>\n",
       "      <th>ratings_2</th>\n",
       "      <th>ratings_3</th>\n",
       "      <th>ratings_4</th>\n",
       "      <th>ratings_5</th>\n",
       "      <th>image_url</th>\n",
       "      <th>small_image_url</th>\n",
       "    </tr>\n",
       "  </thead>\n",
       "  <tbody>\n",
       "    <tr>\n",
       "      <th>0</th>\n",
       "      <td>1</td>\n",
       "      <td>2767052</td>\n",
       "      <td>2767052</td>\n",
       "      <td>2792775</td>\n",
       "      <td>272</td>\n",
       "      <td>439023483</td>\n",
       "      <td>9.780439e+12</td>\n",
       "      <td>Suzanne Collins</td>\n",
       "      <td>2008.0</td>\n",
       "      <td>The Hunger Games</td>\n",
       "      <td>...</td>\n",
       "      <td>4780653</td>\n",
       "      <td>4942365</td>\n",
       "      <td>155254</td>\n",
       "      <td>66715</td>\n",
       "      <td>127936</td>\n",
       "      <td>560092</td>\n",
       "      <td>1481305</td>\n",
       "      <td>2706317</td>\n",
       "      <td>https://images.gr-assets.com/books/1447303603m...</td>\n",
       "      <td>https://images.gr-assets.com/books/1447303603s...</td>\n",
       "    </tr>\n",
       "    <tr>\n",
       "      <th>1</th>\n",
       "      <td>2</td>\n",
       "      <td>3</td>\n",
       "      <td>3</td>\n",
       "      <td>4640799</td>\n",
       "      <td>491</td>\n",
       "      <td>439554934</td>\n",
       "      <td>9.780440e+12</td>\n",
       "      <td>J.K. Rowling, Mary GrandPré</td>\n",
       "      <td>1997.0</td>\n",
       "      <td>Harry Potter and the Philosopher's Stone</td>\n",
       "      <td>...</td>\n",
       "      <td>4602479</td>\n",
       "      <td>4800065</td>\n",
       "      <td>75867</td>\n",
       "      <td>75504</td>\n",
       "      <td>101676</td>\n",
       "      <td>455024</td>\n",
       "      <td>1156318</td>\n",
       "      <td>3011543</td>\n",
       "      <td>https://images.gr-assets.com/books/1474154022m...</td>\n",
       "      <td>https://images.gr-assets.com/books/1474154022s...</td>\n",
       "    </tr>\n",
       "  </tbody>\n",
       "</table>\n",
       "<p>2 rows × 23 columns</p>\n",
       "</div>"
      ],
      "text/plain": [
       "   book_id  goodreads_book_id  best_book_id  work_id  books_count       isbn  \\\n",
       "0        1            2767052       2767052  2792775          272  439023483   \n",
       "1        2                  3             3  4640799          491  439554934   \n",
       "\n",
       "         isbn13                      authors  original_publication_year  \\\n",
       "0  9.780439e+12              Suzanne Collins                     2008.0   \n",
       "1  9.780440e+12  J.K. Rowling, Mary GrandPré                     1997.0   \n",
       "\n",
       "                             original_title  ... ratings_count  \\\n",
       "0                          The Hunger Games  ...       4780653   \n",
       "1  Harry Potter and the Philosopher's Stone  ...       4602479   \n",
       "\n",
       "  work_ratings_count  work_text_reviews_count  ratings_1  ratings_2  \\\n",
       "0            4942365                   155254      66715     127936   \n",
       "1            4800065                    75867      75504     101676   \n",
       "\n",
       "   ratings_3  ratings_4  ratings_5  \\\n",
       "0     560092    1481305    2706317   \n",
       "1     455024    1156318    3011543   \n",
       "\n",
       "                                           image_url  \\\n",
       "0  https://images.gr-assets.com/books/1447303603m...   \n",
       "1  https://images.gr-assets.com/books/1474154022m...   \n",
       "\n",
       "                                     small_image_url  \n",
       "0  https://images.gr-assets.com/books/1447303603s...  \n",
       "1  https://images.gr-assets.com/books/1474154022s...  \n",
       "\n",
       "[2 rows x 23 columns]"
      ]
     },
     "execution_count": 4,
     "metadata": {},
     "output_type": "execute_result"
    }
   ],
   "source": [
    "books = pd.read_csv(\"./data/books.csv\")\n",
    "print(f'Row and columns : {books.shape}')\n",
    "books.head(2)"
   ]
  },
  {
   "cell_type": "markdown",
   "id": "fb74839b",
   "metadata": {},
   "source": [
    "Although the dataset contain many useful features that can be used for book recommendation problem. We will primarily be focusing on the <b>user and book interactions</b> to find the recommendations.<br>\n",
    "And, how do we plan on doing that ?<br>\n",
    "We will be using clever mathematical technique that are designed to project high dimensional data in low dimensional spaces."
   ]
  },
  {
   "cell_type": "code",
   "execution_count": 5,
   "id": "71a10e45",
   "metadata": {},
   "outputs": [
    {
     "data": {
      "text/html": [
       "<div>\n",
       "<style scoped>\n",
       "    .dataframe tbody tr th:only-of-type {\n",
       "        vertical-align: middle;\n",
       "    }\n",
       "\n",
       "    .dataframe tbody tr th {\n",
       "        vertical-align: top;\n",
       "    }\n",
       "\n",
       "    .dataframe thead th {\n",
       "        text-align: right;\n",
       "    }\n",
       "</style>\n",
       "<table border=\"1\" class=\"dataframe\">\n",
       "  <thead>\n",
       "    <tr style=\"text-align: right;\">\n",
       "      <th></th>\n",
       "      <th>book_id</th>\n",
       "      <th>goodreads_book_id</th>\n",
       "      <th>isbn</th>\n",
       "      <th>authors</th>\n",
       "      <th>original_title</th>\n",
       "      <th>image_url</th>\n",
       "    </tr>\n",
       "  </thead>\n",
       "  <tbody>\n",
       "    <tr>\n",
       "      <th>0</th>\n",
       "      <td>1</td>\n",
       "      <td>2767052</td>\n",
       "      <td>439023483</td>\n",
       "      <td>Suzanne Collins</td>\n",
       "      <td>The Hunger Games</td>\n",
       "      <td>https://images.gr-assets.com/books/1447303603m...</td>\n",
       "    </tr>\n",
       "    <tr>\n",
       "      <th>1</th>\n",
       "      <td>2</td>\n",
       "      <td>3</td>\n",
       "      <td>439554934</td>\n",
       "      <td>J.K. Rowling, Mary GrandPré</td>\n",
       "      <td>Harry Potter and the Philosopher's Stone</td>\n",
       "      <td>https://images.gr-assets.com/books/1474154022m...</td>\n",
       "    </tr>\n",
       "  </tbody>\n",
       "</table>\n",
       "</div>"
      ],
      "text/plain": [
       "   book_id  goodreads_book_id       isbn                      authors  \\\n",
       "0        1            2767052  439023483              Suzanne Collins   \n",
       "1        2                  3  439554934  J.K. Rowling, Mary GrandPré   \n",
       "\n",
       "                             original_title  \\\n",
       "0                          The Hunger Games   \n",
       "1  Harry Potter and the Philosopher's Stone   \n",
       "\n",
       "                                           image_url  \n",
       "0  https://images.gr-assets.com/books/1447303603m...  \n",
       "1  https://images.gr-assets.com/books/1474154022m...  "
      ]
     },
     "execution_count": 5,
     "metadata": {},
     "output_type": "execute_result"
    }
   ],
   "source": [
    "books_ = books.loc[:, [\"book_id\", \"goodreads_book_id\", \"isbn\", \"authors\", \"original_title\", \"image_url\"]]\n",
    "\n",
    "# important meta data about the books to display later in the recommended list\n",
    "books_.head(2)"
   ]
  },
  {
   "cell_type": "markdown",
   "id": "42fe3627",
   "metadata": {},
   "source": [
    "We will be using the image url to show the recommended book images in the final application. Let us test out if the links retrive an image"
   ]
  },
  {
   "cell_type": "code",
   "execution_count": 6,
   "id": "2dc28410",
   "metadata": {},
   "outputs": [
    {
     "data": {
      "image/png": "[encoded data removed]",
      "text/plain": [
       "<PIL.JpegImagePlugin.JpegImageFile image mode=RGB size=98x147 at 0x1DF000303D0>"
      ]
     },
     "execution_count": 6,
     "metadata": {},
     "output_type": "execute_result"
    }
   ],
   "source": [
    "# test method to download and display images\n",
    "\n",
    "import urllib\n",
    "import urllib.request\n",
    "from PIL import Image\n",
    "from io import BytesIO\n",
    "\n",
    "with urllib.request.urlopen(books_.iloc[2, :].image_url) as fh:\n",
    "    _ = fh.read()\n",
    "    _ = Image.open(BytesIO(_))\n",
    "    \n",
    "_"
   ]
  },
  {
   "cell_type": "markdown",
   "id": "fd369430",
   "metadata": {},
   "source": [
    "# 2. Exploratory data analysis\n",
    "\n",
    "We will be exploting the ratings dataframe to understand the user behaviour with respect to the movies and vice versa"
   ]
  },
  {
   "cell_type": "markdown",
   "id": "40332fa8",
   "metadata": {},
   "source": [
    "## 2.1 Basic details of ratings"
   ]
  },
  {
   "cell_type": "code",
   "execution_count": 7,
   "id": "a98e170b",
   "metadata": {},
   "outputs": [
    {
     "data": {
      "text/plain": [
       "count   5976479.000\n",
       "mean          3.920\n",
       "std           0.991\n",
       "min           1.000\n",
       "25%           3.000\n",
       "50%           4.000\n",
       "75%           5.000\n",
       "max           5.000\n",
       "Name: rating, dtype: float64"
      ]
     },
     "execution_count": 7,
     "metadata": {},
     "output_type": "execute_result"
    }
   ],
   "source": [
    "pd.set_option('display.float_format', lambda x: '%.3f' % x)\n",
    "ratings.describe()[\"rating\"]"
   ]
  },
  {
   "cell_type": "markdown",
   "id": "a1f22921",
   "metadata": {},
   "source": [
    "Our ratings from user, lie between the values [1-5].\n",
    " \n",
    "Median rating from all users is at 4.0, and 75th percentile rating == MAX RATING. So, could be that most of the readers end up rating the books high, or there are many books with high rating than otherwise."
   ]
  },
  {
   "cell_type": "code",
   "execution_count": 8,
   "id": "0a4c41f8",
   "metadata": {},
   "outputs": [
    {
     "data": {
      "text/plain": [
       "0"
      ]
     },
     "execution_count": 8,
     "metadata": {},
     "output_type": "execute_result"
    }
   ],
   "source": [
    "ratings.duplicated().sum()"
   ]
  },
  {
   "cell_type": "markdown",
   "id": "b1ba3b7d",
   "metadata": {},
   "source": [
    "There are no duplicates in the rating data"
   ]
  },
  {
   "cell_type": "markdown",
   "id": "5c9ecf44",
   "metadata": {},
   "source": [
    "## 2.2 Extract only a piece of the very large dataset\n",
    "Our original dataset contains a total of **5 million, which can be very difficult to process on this laptop.**\n",
    " \n",
    "So, we take a proportion of the overall data, around 50k user interactions. "
   ]
  },
  {
   "cell_type": "code",
   "execution_count": 45,
   "id": "1f1bb4f0",
   "metadata": {},
   "outputs": [
    {
     "data": {
      "image/png": "[encoded data removed]",
      "text/plain": [
       "<Figure size 1008x216 with 2 Axes>"
      ]
     },
     "metadata": {
      "needs_background": "light"
     },
     "output_type": "display_data"
    }
   ],
   "source": [
    "# We filter the rating data to only take users who have rated at least 4 \n",
    "\n",
    "_ = ratings.groupby(\"user_id\").size()\n",
    "ratings_groupby_user = _\n",
    "\n",
    "fig, (ax0, ax1) = plt.subplots(1, 2, figsize = (14, 3))\n",
    "\n",
    "ax0.set(title =\"KDE plot of the ratings per user\", xlabel = \"Number of ratings\")\n",
    "sns.histplot(x = _, ax=ax0, cumulative=False, kde = True, fill=True, stat=\"percent\")\n",
    "\n",
    "ax1.set(title =\"Cumulative plot of the ratings per user\" , xlabel = \"Number of ratings\")\n",
    "sns.histplot(x = _, ax=ax1, cumulative=True, kde = True, fill=True, binwidth=1, stat=\"percent\")\n",
    "\n",
    "plt.show()"
   ]
  },
  {
   "cell_type": "code",
   "execution_count": 46,
   "id": "808d688b",
   "metadata": {},
   "outputs": [
    {
     "name": "stdout",
     "output_type": "stream",
     "text": [
      "Total data\n",
      "**************************************************\n",
      "Total number of ratings:  5976479\n",
      "Total number of users:  53424\n",
      "Total number of books:  10000\n",
      "--------------------------------------------------\n",
      "Total number of ratings per user:  111.86880428271938\n",
      "Total number of ratings per book:  597.6479\n"
     ]
    }
   ],
   "source": [
    "print(\"Total data\")\n",
    "print(\"*\"*50)\n",
    "print(\"Total number of ratings: \", ratings.rating.size )\n",
    "print(\"Total number of users: \", ratings.user_id.nunique())\n",
    "print(\"Total number of books: \", ratings.book_id.nunique())\n",
    "print(\"-\"*50)\n",
    "print(\"Total number of ratings per user: \", ratings.rating.size / ratings.user_id.nunique() )\n",
    "print(\"Total number of ratings per book: \", ratings.rating.size / ratings.book_id.nunique() )"
   ]
  },
  {
   "cell_type": "markdown",
   "id": "c78a3f28",
   "metadata": {},
   "source": [
    "### 2.2.1 Sampling to get a small proportion of the original dataset\n",
    "In order to pick around 50k user interactions from the big dataset. We "
   ]
  },
  {
   "cell_type": "code",
   "execution_count": 47,
   "id": "7751130e",
   "metadata": {},
   "outputs": [
    {
     "data": {
      "text/html": [
       "<div>\n",
       "<style scoped>\n",
       "    .dataframe tbody tr th:only-of-type {\n",
       "        vertical-align: middle;\n",
       "    }\n",
       "\n",
       "    .dataframe tbody tr th {\n",
       "        vertical-align: top;\n",
       "    }\n",
       "\n",
       "    .dataframe thead th {\n",
       "        text-align: right;\n",
       "    }\n",
       "</style>\n",
       "<table border=\"1\" class=\"dataframe\">\n",
       "  <thead>\n",
       "    <tr style=\"text-align: right;\">\n",
       "      <th></th>\n",
       "      <th>user_id</th>\n",
       "      <th>Y_cuts</th>\n",
       "    </tr>\n",
       "  </thead>\n",
       "  <tbody>\n",
       "    <tr>\n",
       "      <th>0</th>\n",
       "      <td>1</td>\n",
       "      <td>(91.4, 127.6]</td>\n",
       "    </tr>\n",
       "    <tr>\n",
       "      <th>1</th>\n",
       "      <td>2</td>\n",
       "      <td>(55.2, 91.4]</td>\n",
       "    </tr>\n",
       "  </tbody>\n",
       "</table>\n",
       "</div>"
      ],
      "text/plain": [
       "   user_id         Y_cuts\n",
       "0        1  (91.4, 127.6]\n",
       "1        2   (55.2, 91.4]"
      ]
     },
     "execution_count": 47,
     "metadata": {},
     "output_type": "execute_result"
    }
   ],
   "source": [
    "Y = ratings.user_id.map(dict(np.c_[ratings_groupby_user.index, ratings_groupby_user.values]))\n",
    "Y_cuts = pd.cut(Y, bins = 5)\n",
    "\n",
    "ratings_groupby_user = ratings_groupby_user.to_frame().reset_index().assign(Y_cuts = Y_cuts).drop(columns=[0])\n",
    "ratings_groupby_user.head(2)"
   ]
  },
  {
   "cell_type": "markdown",
   "id": "02c023cf",
   "metadata": {},
   "source": [
    "Run stratified sampling to pick a subset of users while maintining the overall shape of distribution"
   ]
  },
  {
   "cell_type": "code",
   "execution_count": 48,
   "id": "94810028",
   "metadata": {},
   "outputs": [
    {
     "name": "stdout",
     "output_type": "stream",
     "text": [
      "(534, 2)\n"
     ]
    },
    {
     "data": {
      "text/html": [
       "<div>\n",
       "<style scoped>\n",
       "    .dataframe tbody tr th:only-of-type {\n",
       "        vertical-align: middle;\n",
       "    }\n",
       "\n",
       "    .dataframe tbody tr th {\n",
       "        vertical-align: top;\n",
       "    }\n",
       "\n",
       "    .dataframe thead th {\n",
       "        text-align: right;\n",
       "    }\n",
       "</style>\n",
       "<table border=\"1\" class=\"dataframe\">\n",
       "  <thead>\n",
       "    <tr style=\"text-align: right;\">\n",
       "      <th></th>\n",
       "      <th>user_id</th>\n",
       "      <th>Y_cuts</th>\n",
       "    </tr>\n",
       "  </thead>\n",
       "  <tbody>\n",
       "    <tr>\n",
       "      <th>10667</th>\n",
       "      <td>10668</td>\n",
       "      <td>(18.819, 55.2]</td>\n",
       "    </tr>\n",
       "    <tr>\n",
       "      <th>22399</th>\n",
       "      <td>22400</td>\n",
       "      <td>(55.2, 91.4]</td>\n",
       "    </tr>\n",
       "    <tr>\n",
       "      <th>38246</th>\n",
       "      <td>38247</td>\n",
       "      <td>(127.6, 163.8]</td>\n",
       "    </tr>\n",
       "    <tr>\n",
       "      <th>32167</th>\n",
       "      <td>32168</td>\n",
       "      <td>(163.8, 200.0]</td>\n",
       "    </tr>\n",
       "    <tr>\n",
       "      <th>22966</th>\n",
       "      <td>22967</td>\n",
       "      <td>(91.4, 127.6]</td>\n",
       "    </tr>\n",
       "  </tbody>\n",
       "</table>\n",
       "</div>"
      ],
      "text/plain": [
       "       user_id          Y_cuts\n",
       "10667    10668  (18.819, 55.2]\n",
       "22399    22400    (55.2, 91.4]\n",
       "38246    38247  (127.6, 163.8]\n",
       "32167    32168  (163.8, 200.0]\n",
       "22966    22967   (91.4, 127.6]"
      ]
     },
     "execution_count": 48,
     "metadata": {},
     "output_type": "execute_result"
    }
   ],
   "source": [
    "from sklearn.model_selection import StratifiedShuffleSplit\n",
    "X = ratings_groupby_user.user_id\n",
    "Y = ratings_groupby_user.Y_cuts\n",
    "\n",
    "strata = StratifiedShuffleSplit(n_splits=1, train_size=0.01, random_state=2)\n",
    "for index, temp in strata.split(X, Y):\n",
    "    ratings_groupby_user_strata = ratings_groupby_user.iloc[index, :]\n",
    "    \n",
    "print(ratings_groupby_user_strata.shape)\n",
    "ratings_groupby_user_strata.head()"
   ]
  },
  {
   "cell_type": "code",
   "execution_count": 49,
   "id": "d381ba5d",
   "metadata": {},
   "outputs": [
    {
     "data": {
      "text/plain": [
       "(60127, 3)"
      ]
     },
     "execution_count": 49,
     "metadata": {},
     "output_type": "execute_result"
    }
   ],
   "source": [
    "ratings_ = ratings.loc[ratings.user_id.isin(ratings_groupby_user_strata.user_id)]\n",
    "ratings_.shape"
   ]
  },
  {
   "cell_type": "markdown",
   "id": "80247c23",
   "metadata": {},
   "source": [
    "Around 534 users with a total of 60k rating have been picked from the big dataset"
   ]
  },
  {
   "cell_type": "code",
   "execution_count": 50,
   "id": "ca84402a",
   "metadata": {},
   "outputs": [
    {
     "name": "stdout",
     "output_type": "stream",
     "text": [
      "Total data\n",
      "**************************************************\n",
      "Total number of ratings:  60127\n",
      "Total number of users:  534\n",
      "Total number of books:  8784\n",
      "--------------------------------------------------\n",
      "Total number of ratings per user:  112.59737827715355\n",
      "Total number of ratings per book:  6.845059198542805\n"
     ]
    }
   ],
   "source": [
    "print(\"Total data\")\n",
    "print(\"*\"*50)\n",
    "print(\"Total number of ratings: \", ratings_.rating.size )\n",
    "print(\"Total number of users: \", ratings_.user_id.nunique())\n",
    "print(\"Total number of books: \", ratings_.book_id.nunique())\n",
    "print(\"-\"*50)\n",
    "print(\"Total number of ratings per user: \", ratings_.rating.size / ratings_.user_id.nunique() )\n",
    "print(\"Total number of ratings per book: \", ratings_.rating.size / ratings_.book_id.nunique() )"
   ]
  },
  {
   "cell_type": "markdown",
   "id": "d6bc77e2",
   "metadata": {},
   "source": [
    "In the sampled dataset, we have a total of 60k ratings, around 500 users and 8k books. The sampling has been done to preserve the distributon of \"books rated per user\" "
   ]
  },
  {
   "cell_type": "markdown",
   "id": "69aa5387",
   "metadata": {},
   "source": [
    "### 2.2.2 Distribution of ratings (sampled dataset)"
   ]
  },
  {
   "cell_type": "code",
   "execution_count": 84,
   "id": "0c18df55",
   "metadata": {},
   "outputs": [
    {
     "data": {
      "image/png": "[encoded data removed]",
      "text/plain": [
       "<Figure size 1008x216 with 2 Axes>"
      ]
     },
     "metadata": {
      "needs_background": "light"
     },
     "output_type": "display_data"
    }
   ],
   "source": [
    "fig, (ax0, ax1) = plt.subplots(1, 2, figsize = (14, 3))\n",
    "\n",
    "ax0.set(title =\"KDE plot of the ratings\", xlabel = \"Ratings given by users\")\n",
    "sns.histplot(data = ratings_, x = \"rating\", ax=ax0, cumulative=False, kde = False, fill=True, stat=\"percent\")\n",
    "ax0.set_xticks([1, 2, 3, 4, 5])\n",
    "\n",
    "ax1.set(title =\"Cumulative plot of the ratings\", xlabel = \"Ratings given by users\")\n",
    "sns.histplot(data = ratings_, x = \"rating\", ax=ax1, cumulative=True, kde = False, fill=True, binwidth=1, stat=\"percent\")\n",
    "ax1.set_xticks([1, 2, 3, 4, 5])\n",
    "\n",
    "plt.show()"
   ]
  },
  {
   "cell_type": "markdown",
   "id": "2607a1a4",
   "metadata": {},
   "source": [
    "Observations - \n",
    "1. Most of the ratings, around **65 percent** are either 4 or 5. So, goodreads as a platform has a very high average global rating.\n",
    "2. Less than **15 percent** of total rating are either [1, 2]. \n",
    " > This suggests that a good recommender should do specially good at predicting the low ratings*. \n",
    "3. Around **1/4th** of the total ratings are neutral or [3]"
   ]
  },
  {
   "cell_type": "markdown",
   "id": "2a04b738",
   "metadata": {},
   "source": [
    "### 2.2.3 Number of books rated per users (sampled dataset)"
   ]
  },
  {
   "cell_type": "code",
   "execution_count": 52,
   "id": "18f5dc61",
   "metadata": {},
   "outputs": [
    {
     "data": {
      "image/png": "[encoded data removed]",
      "text/plain": [
       "<Figure size 1008x216 with 2 Axes>"
      ]
     },
     "metadata": {
      "needs_background": "light"
     },
     "output_type": "display_data"
    }
   ],
   "source": [
    "_ = ratings_.groupby(\"user_id\").size()\n",
    "\n",
    "fig, (ax0, ax1) = plt.subplots(1, 2, figsize = (14, 3))\n",
    "\n",
    "ax0.set(title =\"KDE plot of the ratings\", xlabel = \"Number of ratings\")\n",
    "sns.histplot(x = _, ax=ax0, cumulative=False, kde = True, fill=True, stat=\"percent\")\n",
    "\n",
    "ax1.set(title =\"Cumulative plot of the ratings\" , xlabel = \"Number of ratings\")\n",
    "sns.histplot(x = _, ax=ax1, cumulative=True, kde = True, fill=True, binwidth=1, stat=\"percent\")\n",
    "\n",
    "plt.show()"
   ]
  },
  {
   "cell_type": "markdown",
   "id": "92567fb8",
   "metadata": {},
   "source": [
    "Observations - \n",
    "1. The metric follows a nearly normal distribution\n",
    "2. On an avg, users rate around 112 books\n",
    "3. Very few users rate less than 25 books, and more than 150 books"
   ]
  },
  {
   "cell_type": "markdown",
   "id": "901e1089",
   "metadata": {},
   "source": [
    "### 2.2.4 Number of books in each rating category"
   ]
  },
  {
   "cell_type": "code",
   "execution_count": 125,
   "id": "e0010e6e",
   "metadata": {},
   "outputs": [
    {
     "data": {
      "image/png": "[encoded data removed]",
      "text/plain": [
       "<Figure size 432x288 with 1 Axes>"
      ]
     },
     "metadata": {
      "needs_background": "light"
     },
     "output_type": "display_data"
    }
   ],
   "source": [
    "_ = ratings_.groupby(\"rating\")[\"book_id\"].nunique()\n",
    "_ = _.to_frame().reset_index()\n",
    "\n",
    "sns.barplot(data=_, x = \"rating\", y = \"book_id\", color=\"purple\", alpha=0.7)\n",
    "plt.ylabel(\"Number of unique books\")\n",
    "plt.title(\"Number of books in each rating group\")\n",
    "\n",
    "plt.show()"
   ]
  },
  {
   "cell_type": "markdown",
   "id": "3e3ecb2e",
   "metadata": {},
   "source": [
    "Again, same observation - \n",
    "1. High percentage of books have received a 4 or 5 star rating on this platform"
   ]
  },
  {
   "cell_type": "markdown",
   "id": "0c9916a1",
   "metadata": {},
   "source": [
    "### 2.2.5 Number of ratings received by each book by users"
   ]
  },
  {
   "cell_type": "code",
   "execution_count": 128,
   "id": "3ebb2964",
   "metadata": {},
   "outputs": [
    {
     "data": {
      "text/plain": [
       "<Figure size 1080x432 with 0 Axes>"
      ]
     },
     "metadata": {},
     "output_type": "display_data"
    },
    {
     "data": {
      "image/png": "[encoded data removed]",
      "text/plain": [
       "<Figure size 864x432 with 5 Axes>"
      ]
     },
     "metadata": {
      "needs_background": "light"
     },
     "output_type": "display_data"
    }
   ],
   "source": [
    "_ = ratings_.groupby([\"rating\", \"book_id\"]).size().reset_index().rename(columns={0:\"Number of users\"})\n",
    "\n",
    "plt.figure(figsize=(15, 6))\n",
    "sns.FacetGrid(data = _, col= \"rating\", col_wrap=4).map(sns.kdeplot, \"Number of users\")\n",
    "plt.xlim((0, 30))\n",
    "plt.show()"
   ]
  },
  {
   "cell_type": "markdown",
   "id": "fc41cc39",
   "metadata": {},
   "source": [
    "For each of the rating category, we observe that -\n",
    "1. Most of the books have been rated by 3-4 users\n",
    "2. With the exception of books, that have been rated by a lot of users, but that is not the mode"
   ]
  },
  {
   "cell_type": "markdown",
   "id": "d8e10d74",
   "metadata": {},
   "source": [
    "# 3. Creating the recommendation system\n",
    "\n",
    "We will be exploting the ratings dataframe to understand the user behaviour with respect to the movies and vice versa.\n",
    "  <br><br>\n",
    "We will make use of the SVD to find the low dimension embeddings of the items. Finally, we will be using these embeddings in conjunction with a similarity metric to find the top recommendations for the user search item.\n",
    " \n"
   ]
  },
  {
   "cell_type": "code",
   "execution_count": 359,
   "id": "fae10ab1",
   "metadata": {},
   "outputs": [],
   "source": [
    "from scipy.sparse.linalg import svds\n",
    "from scipy.sparse import csr_matrix\n",
    "from sklearn.metrics.pairwise import cosine_similarity\n",
    "\n",
    "# We will be implementing this class to \n",
    "class SVD_recommender(object):\n",
    "    def __init__(self, processed_ratings_matrix, user_index, item_index):\n",
    "        self.data = processed_ratings_matrix\n",
    "        self.U = None\n",
    "        self.Vt = None\n",
    "        self.sigma = None\n",
    "        self.sigmaVt_T = None\n",
    "        self.results = None\n",
    "        self.user_idx = user_index\n",
    "        self.item_idx = item_index\n",
    "        \n",
    "    def fit(self, k = 10):\n",
    "        self.U, self.sigma, self.Vt = svds(self.data, k)\n",
    "        self.sigma = np.diag(self.sigma)\n",
    "        self.sigmaVt_T = np.dot(self.sigma, self.Vt).T\n",
    "    \n",
    "    def recommend_with_itemid(self, item_id):\n",
    "        if item_id not in self.item_idx:\n",
    "            raise KeyError\n",
    "    \n",
    "        idx = np.where(self.item_idx == item_id)[0][0]\n",
    "        item = [self.sigmaVt_T[idx]]\n",
    "        \n",
    "        scores = cosine_similarity(self.sigmaVt_T, item)[:, 0]\n",
    "        return pd.DataFrame({\"item_id\": self.item_idx, \"scores\": scores}).sort_values(\"scores\", ascending = False).query(\"item_id != @item\", )\n",
    "        "
   ]
  },
  {
   "cell_type": "code",
   "execution_count": 360,
   "id": "bb03060e",
   "metadata": {},
   "outputs": [
    {
     "name": "stdout",
     "output_type": "stream",
     "text": [
      "(534, 8784)\n"
     ]
    }
   ],
   "source": [
    "# Process the existing rating matrix to be used further\n",
    "\n",
    "ratings_pivot = pd.pivot(data = ratings_, index = \"user_id\", columns=\"book_id\", values=\"rating\")#.reset_index()\n",
    "print(ratings_pivot.shape)"
   ]
  },
  {
   "cell_type": "code",
   "execution_count": 361,
   "id": "72812903",
   "metadata": {},
   "outputs": [],
   "source": [
    "book_index = ratings_pivot.columns.to_numpy()\n",
    "user_index = ratings_pivot.index.to_numpy()\n",
    "\n",
    "ratings_normal = ratings_pivot.fillna(0).to_numpy() - ratings_pivot.mean(axis=1).to_numpy().reshape(-1, 1) "
   ]
  },
  {
   "cell_type": "code",
   "execution_count": 362,
   "id": "44678fc3",
   "metadata": {},
   "outputs": [],
   "source": [
    "recommender = SVD_recommender(ratings_normal, user_index, book_index)\n",
    "recommender.fit(k = 20)"
   ]
  },
  {
   "cell_type": "code",
   "execution_count": 365,
   "id": "a8febe6e",
   "metadata": {},
   "outputs": [
    {
     "data": {
      "text/html": [
       "<div>\n",
       "<style scoped>\n",
       "    .dataframe tbody tr th:only-of-type {\n",
       "        vertical-align: middle;\n",
       "    }\n",
       "\n",
       "    .dataframe tbody tr th {\n",
       "        vertical-align: top;\n",
       "    }\n",
       "\n",
       "    .dataframe thead th {\n",
       "        text-align: right;\n",
       "    }\n",
       "</style>\n",
       "<table border=\"1\" class=\"dataframe\">\n",
       "  <thead>\n",
       "    <tr style=\"text-align: right;\">\n",
       "      <th></th>\n",
       "      <th>item_id</th>\n",
       "      <th>scores</th>\n",
       "    </tr>\n",
       "  </thead>\n",
       "  <tbody>\n",
       "    <tr>\n",
       "      <th>1</th>\n",
       "      <td>2</td>\n",
       "      <td>1.000</td>\n",
       "    </tr>\n",
       "    <tr>\n",
       "      <th>23</th>\n",
       "      <td>24</td>\n",
       "      <td>0.915</td>\n",
       "    </tr>\n",
       "    <tr>\n",
       "      <th>22</th>\n",
       "      <td>23</td>\n",
       "      <td>0.915</td>\n",
       "    </tr>\n",
       "    <tr>\n",
       "      <th>26</th>\n",
       "      <td>27</td>\n",
       "      <td>0.911</td>\n",
       "    </tr>\n",
       "    <tr>\n",
       "      <th>17</th>\n",
       "      <td>18</td>\n",
       "      <td>0.911</td>\n",
       "    </tr>\n",
       "    <tr>\n",
       "      <th>20</th>\n",
       "      <td>21</td>\n",
       "      <td>0.911</td>\n",
       "    </tr>\n",
       "    <tr>\n",
       "      <th>24</th>\n",
       "      <td>25</td>\n",
       "      <td>0.911</td>\n",
       "    </tr>\n",
       "    <tr>\n",
       "      <th>6</th>\n",
       "      <td>7</td>\n",
       "      <td>0.904</td>\n",
       "    </tr>\n",
       "    <tr>\n",
       "      <th>18</th>\n",
       "      <td>19</td>\n",
       "      <td>0.871</td>\n",
       "    </tr>\n",
       "    <tr>\n",
       "      <th>52</th>\n",
       "      <td>53</td>\n",
       "      <td>0.859</td>\n",
       "    </tr>\n",
       "  </tbody>\n",
       "</table>\n",
       "</div>"
      ],
      "text/plain": [
       "    item_id  scores\n",
       "1         2   1.000\n",
       "23       24   0.915\n",
       "22       23   0.915\n",
       "26       27   0.911\n",
       "17       18   0.911\n",
       "20       21   0.911\n",
       "24       25   0.911\n",
       "6         7   0.904\n",
       "18       19   0.871\n",
       "52       53   0.859"
      ]
     },
     "execution_count": 365,
     "metadata": {},
     "output_type": "execute_result"
    }
   ],
   "source": [
    "_ = recommender.recommend_with_itemid(2).head(10)\n",
    "_"
   ]
  },
  {
   "cell_type": "code",
   "execution_count": 366,
   "id": "615005c1",
   "metadata": {},
   "outputs": [
    {
     "data": {
      "text/html": [
       "<div>\n",
       "<style scoped>\n",
       "    .dataframe tbody tr th:only-of-type {\n",
       "        vertical-align: middle;\n",
       "    }\n",
       "\n",
       "    .dataframe tbody tr th {\n",
       "        vertical-align: top;\n",
       "    }\n",
       "\n",
       "    .dataframe thead th {\n",
       "        text-align: right;\n",
       "    }\n",
       "</style>\n",
       "<table border=\"1\" class=\"dataframe\">\n",
       "  <thead>\n",
       "    <tr style=\"text-align: right;\">\n",
       "      <th></th>\n",
       "      <th>original_title</th>\n",
       "      <th>image_url</th>\n",
       "    </tr>\n",
       "  </thead>\n",
       "  <tbody>\n",
       "    <tr>\n",
       "      <th>1</th>\n",
       "      <td>Harry Potter and the Philosopher's Stone</td>\n",
       "      <td>https://images.gr-assets.com/books/1474154022m...</td>\n",
       "    </tr>\n",
       "    <tr>\n",
       "      <th>6</th>\n",
       "      <td>The Hobbit or There and Back Again</td>\n",
       "      <td>https://images.gr-assets.com/books/1372847500m...</td>\n",
       "    </tr>\n",
       "    <tr>\n",
       "      <th>17</th>\n",
       "      <td>Harry Potter and the Prisoner of Azkaban</td>\n",
       "      <td>https://images.gr-assets.com/books/1499277281m...</td>\n",
       "    </tr>\n",
       "    <tr>\n",
       "      <th>18</th>\n",
       "      <td>The Fellowship of the Ring</td>\n",
       "      <td>https://images.gr-assets.com/books/1298411339m...</td>\n",
       "    </tr>\n",
       "    <tr>\n",
       "      <th>20</th>\n",
       "      <td>Harry Potter and the Order of the Phoenix</td>\n",
       "      <td>https://images.gr-assets.com/books/1387141547m...</td>\n",
       "    </tr>\n",
       "    <tr>\n",
       "      <th>22</th>\n",
       "      <td>Harry Potter and the Chamber of Secrets</td>\n",
       "      <td>https://images.gr-assets.com/books/1474169725m...</td>\n",
       "    </tr>\n",
       "    <tr>\n",
       "      <th>23</th>\n",
       "      <td>Harry Potter and the Goblet of Fire</td>\n",
       "      <td>https://images.gr-assets.com/books/1361482611m...</td>\n",
       "    </tr>\n",
       "    <tr>\n",
       "      <th>24</th>\n",
       "      <td>Harry Potter and the Deathly Hallows</td>\n",
       "      <td>https://images.gr-assets.com/books/1474171184m...</td>\n",
       "    </tr>\n",
       "    <tr>\n",
       "      <th>26</th>\n",
       "      <td>Harry Potter and the Half-Blood Prince</td>\n",
       "      <td>https://images.gr-assets.com/books/1361039191m...</td>\n",
       "    </tr>\n",
       "    <tr>\n",
       "      <th>52</th>\n",
       "      <td>Eragon</td>\n",
       "      <td>https://images.gr-assets.com/books/1366212852m...</td>\n",
       "    </tr>\n",
       "  </tbody>\n",
       "</table>\n",
       "</div>"
      ],
      "text/plain": [
       "                               original_title  \\\n",
       "1    Harry Potter and the Philosopher's Stone   \n",
       "6          The Hobbit or There and Back Again   \n",
       "17   Harry Potter and the Prisoner of Azkaban   \n",
       "18                 The Fellowship of the Ring   \n",
       "20  Harry Potter and the Order of the Phoenix   \n",
       "22    Harry Potter and the Chamber of Secrets   \n",
       "23        Harry Potter and the Goblet of Fire   \n",
       "24       Harry Potter and the Deathly Hallows   \n",
       "26     Harry Potter and the Half-Blood Prince   \n",
       "52                                     Eragon   \n",
       "\n",
       "                                            image_url  \n",
       "1   https://images.gr-assets.com/books/1474154022m...  \n",
       "6   https://images.gr-assets.com/books/1372847500m...  \n",
       "17  https://images.gr-assets.com/books/1499277281m...  \n",
       "18  https://images.gr-assets.com/books/1298411339m...  \n",
       "20  https://images.gr-assets.com/books/1387141547m...  \n",
       "22  https://images.gr-assets.com/books/1474169725m...  \n",
       "23  https://images.gr-assets.com/books/1361482611m...  \n",
       "24  https://images.gr-assets.com/books/1474171184m...  \n",
       "26  https://images.gr-assets.com/books/1361039191m...  \n",
       "52  https://images.gr-assets.com/books/1366212852m...  "
      ]
     },
     "execution_count": 366,
     "metadata": {},
     "output_type": "execute_result"
    }
   ],
   "source": [
    "books.loc[books.book_id.isin(_.item_id)].loc[:, [\"original_title\", \"image_url\"]]"
   ]
  },
  {
   "cell_type": "markdown",
   "id": "1ad388b7",
   "metadata": {},
   "source": [
    "## Store useful data to the app/data folder to be used for application"
   ]
  },
  {
   "cell_type": "code",
   "execution_count": 370,
   "id": "7b5ae044",
   "metadata": {},
   "outputs": [],
   "source": [
    "import pickle\n",
    "\n",
    "with open(\"./app/data/books.pkl\", \"wb\") as f:\n",
    "    pickle.dump(books.to_dict(), f)\n",
    "    \n",
    "with open(\"./app/data/recommender.pkl\", \"wb\") as f:\n",
    "    pickle.dump(recommender, f)\n",
    "    \n",
    "with open(\"./app/data/ratings_subset.pkl\", \"wb\") as f:\n",
    "    pickle.dump(ratings_, f)"
   ]
  }
 ],
 "metadata": {
  "kernelspec": {
   "display_name": "Python 3 (ipykernel)",
   "language": "python",
   "name": "python3"
  },
  "language_info": {
   "codemirror_mode": {
    "name": "ipython",
    "version": 3
   },
   "file_extension": ".py",
   "mimetype": "text/x-python",
   "name": "python",
   "nbconvert_exporter": "python",
   "pygments_lexer": "ipython3",
   "version": "3.9.7"
  }
 },
 "nbformat": 4,
 "nbformat_minor": 5
}
